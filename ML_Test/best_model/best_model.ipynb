{
 "cells": [
  {
   "cell_type": "code",
   "execution_count": 1,
   "id": "e2676ede",
   "metadata": {},
   "outputs": [],
   "source": [
    "from keras.utils import np_utils\n",
    "from keras.models import Sequential\n",
    "from keras.layers import Dense, Activation\n",
    "import numpy as np\n",
    "from numpy import argmax\n",
    "from tensorflow.keras.preprocessing.sequence import pad_sequences\n",
    "import pandas as pd"
   ]
  },
  {
   "cell_type": "code",
   "execution_count": 2,
   "id": "1ef4ad3e",
   "metadata": {},
   "outputs": [
    {
     "name": "stderr",
     "output_type": "stream",
     "text": [
      "2022-11-03 17:25:58.906771: I tensorflow/core/common_runtime/pluggable_device/pluggable_device_factory.cc:305] Could not identify NUMA node of platform GPU ID 0, defaulting to 0. Your kernel may not have been built with NUMA support.\n",
      "2022-11-03 17:25:58.906882: I tensorflow/core/common_runtime/pluggable_device/pluggable_device_factory.cc:271] Created TensorFlow device (/job:localhost/replica:0/task:0/device:GPU:0 with 0 MB memory) -> physical PluggableDevice (device: 0, name: METAL, pci bus id: <undefined>)\n"
     ]
    },
    {
     "name": "stdout",
     "output_type": "stream",
     "text": [
      "Metal device set to: Apple M1 Pro\n"
     ]
    }
   ],
   "source": [
    "from keras.models import load_model\n",
    "model = load_model('best_model.h5')"
   ]
  },
  {
   "cell_type": "code",
   "execution_count": 3,
   "id": "c65eefe7",
   "metadata": {},
   "outputs": [],
   "source": [
    "encoded = [[7355, 3521, 151, 647, 5468]]\n",
    "max_len = 10"
   ]
  },
  {
   "cell_type": "code",
   "execution_count": 4,
   "id": "0f82757a",
   "metadata": {},
   "outputs": [],
   "source": [
    "pad_new = pad_sequences(encoded, maxlen = max_len)"
   ]
  },
  {
   "cell_type": "code",
   "execution_count": 5,
   "id": "9d75a79c",
   "metadata": {},
   "outputs": [
    {
     "name": "stderr",
     "output_type": "stream",
     "text": [
      "2022-11-03 17:26:01.301598: W tensorflow/core/platform/profile_utils/cpu_utils.cc:128] Failed to get CPU frequency: 0 Hz\n",
      "2022-11-03 17:26:01.495356: I tensorflow/core/grappler/optimizers/custom_graph_optimizer_registry.cc:113] Plugin optimizer for device_type GPU is enabled.\n"
     ]
    },
    {
     "name": "stdout",
     "output_type": "stream",
     "text": [
      "1/1 [==============================] - 0s 309ms/step\n"
     ]
    },
    {
     "name": "stderr",
     "output_type": "stream",
     "text": [
      "2022-11-03 17:26:01.532778: I tensorflow/core/grappler/optimizers/custom_graph_optimizer_registry.cc:113] Plugin optimizer for device_type GPU is enabled.\n"
     ]
    }
   ],
   "source": [
    "classifier = model.predict(pad_new)"
   ]
  },
  {
   "cell_type": "code",
   "execution_count": 6,
   "id": "2a7c6fe4",
   "metadata": {},
   "outputs": [
    {
     "name": "stdout",
     "output_type": "stream",
     "text": [
      "1/1 [==============================] - 0s 15ms/step\n",
      "predict [[0.    0.009 0.139 0.83  0.015 0.001 0.    0.001 0.002 0.002]]\n"
     ]
    }
   ],
   "source": [
    "np.set_printoptions(precision=3, suppress=True)\n",
    "print('predict', model.predict(pad_new))"
   ]
  },
  {
   "cell_type": "code",
   "execution_count": 7,
   "id": "3baa0556",
   "metadata": {},
   "outputs": [
    {
     "name": "stdout",
     "output_type": "stream",
     "text": [
      "카테고리는 사회입니다.\n"
     ]
    }
   ],
   "source": [
    "temp = max(classifier[0].tolist())\n",
    "index = classifier[0].tolist().index(temp)\n",
    "# print(index)\n",
    "\n",
    "if index == 1:\n",
    "    print(\"카테고리는 경제입니다.\")\n",
    "elif index == 2:\n",
    "    print(\"카테고리는 정치입니다.\")\n",
    "elif index == 3:\n",
    "    print(\"카테고리는 사회입니다.\")\n",
    "elif index == 4:\n",
    "    print(\"카테고리는 문화입니다.\")\n",
    "elif index == 5:\n",
    "    print(\"카테고리는 IT입니다.\")\n",
    "elif index == 6:\n",
    "    print(\"카테고리는 과학입니다.\")\n",
    "elif index == 7:\n",
    "    print(\"카테고리는 국제입니다.\")\n",
    "elif index == 8:\n",
    "    print(\"카테고리는 스포츠입니다.\")\n",
    "elif index == 9:\n",
    "    print(\"카테고리는 연예입니다.\")"
   ]
  },
  {
   "cell_type": "code",
   "execution_count": null,
   "id": "7e7afd8b",
   "metadata": {},
   "outputs": [],
   "source": []
  }
 ],
 "metadata": {
  "kernelspec": {
   "display_name": "Python [conda env:tensorflow-scott]",
   "language": "python",
   "name": "conda-env-tensorflow-scott-py"
  },
  "language_info": {
   "codemirror_mode": {
    "name": "ipython",
    "version": 3
   },
   "file_extension": ".py",
   "mimetype": "text/x-python",
   "name": "python",
   "nbconvert_exporter": "python",
   "pygments_lexer": "ipython3",
   "version": "3.8.13"
  }
 },
 "nbformat": 4,
 "nbformat_minor": 5
}
