{
 "cells": [
  {
   "cell_type": "code",
   "execution_count": 1,
   "id": "d4fa5858",
   "metadata": {},
   "outputs": [],
   "source": [
    "import numpy as np\n",
    "import tensorflow as tf\n",
    "\n",
    "n_examples = 10\n",
    "n_features = 10"
   ]
  },
  {
   "cell_type": "code",
   "execution_count": 3,
   "id": "cda72440",
   "metadata": {},
   "outputs": [
    {
     "data": {
      "text/plain": [
       "array([[98, 89, 81, 31, 13, 17, 86, 11, 99, 72],\n",
       "       [60, 35, 83, 45, 11, 75, 45, 65, 34, 52],\n",
       "       [39, 76, 96, 85, 20, 91, 34, 35, 15, 29],\n",
       "       [70, 75, 39, 71, 55, 71, 22, 84, 89, 43],\n",
       "       [70,  7, 72,  3, 68, 42, 16, 28, 20, 85],\n",
       "       [40, 78,  6, 36, 47, 21, 82,  7, 35, 58],\n",
       "       [84, 31, 87, 98, 95,  5, 82, 35, 58, 10],\n",
       "       [86, 65, 54, 13, 41, 55, 24, 75, 21, 42],\n",
       "       [57, 29, 69, 84, 63, 61, 28, 14,  1, 90],\n",
       "       [76, 80, 24, 61, 19, 91, 17, 23, 29, 86]])"
      ]
     },
     "execution_count": 3,
     "metadata": {},
     "output_type": "execute_result"
    }
   ],
   "source": [
    "examples = np.random.randint(0, 100, size = (n_examples, n_features))\n",
    "examples"
   ]
  },
  {
   "cell_type": "code",
   "execution_count": 5,
   "id": "fa33b25e",
   "metadata": {},
   "outputs": [
    {
     "name": "stdout",
     "output_type": "stream",
     "text": [
      "label=0, feature=[98 89 81 31 13 17 86 11 99 72]\n",
      "label=1, feature=[60 35 83 45 11 75 45 65 34 52]\n",
      "label=2, feature=[39 76 96 85 20 91 34 35 15 29]\n",
      "label=3, feature=[70 75 39 71 55 71 22 84 89 43]\n",
      "label=4, feature=[70  7 72  3 68 42 16 28 20 85]\n",
      "label=5, feature=[40 78  6 36 47 21 82  7 35 58]\n",
      "label=6, feature=[84 31 87 98 95  5 82 35 58 10]\n",
      "label=7, feature=[86 65 54 13 41 55 24 75 21 42]\n",
      "label=8, feature=[57 29 69 84 63 61 28 14  1 90]\n",
      "label=9, feature=[76 80 24 61 19 91 17 23 29 86]\n"
     ]
    }
   ],
   "source": [
    "for idx in range(examples.shape[0]):\n",
    "    print(\"label={}, feature={}\".format(idx, examples[idx]))"
   ]
  },
  {
   "cell_type": "code",
   "execution_count": 8,
   "id": "ffc4326e",
   "metadata": {},
   "outputs": [],
   "source": [
    "with tf.io.TFRecordWriter('example.tfrecord') as tfrecord:\n",
    "    for idx in range(examples.shape[0]):\n",
    "        label = [idx]\n",
    "        feature = examples[idx]\n",
    "        features = {\n",
    "            'label': tf.train.Feature(int64_list = tf.train.Int64List(value = label)),\n",
    "            'feature': tf.train.Feature(int64_list = tf.train.Int64List(value = feature))\n",
    "        }\n",
    "        example = tf.train.Example(features = tf.train.Features(feature = features))\n",
    "        tfrecord.write(example.SerializeToString())"
   ]
  },
  {
   "cell_type": "code",
   "execution_count": 10,
   "id": "c3afaa44",
   "metadata": {},
   "outputs": [],
   "source": [
    "def map_fn(serialized_example):\n",
    "    feature = {\n",
    "        'label': tf.io.FixedLenFeature([1], tf.int64),\n",
    "        'feature': tf.io.FixedLenFeature([n_features], tf.int64)\n",
    "    }\n",
    "    example = tf.io.parse_single_example(serialized_example, feature)\n",
    "    return example['feature'], example['label']"
   ]
  },
  {
   "cell_type": "code",
   "execution_count": 11,
   "id": "2f674b7a",
   "metadata": {},
   "outputs": [
    {
     "name": "stdout",
     "output_type": "stream",
     "text": [
      "Metal device set to: Apple M1 Pro\n"
     ]
    },
    {
     "name": "stderr",
     "output_type": "stream",
     "text": [
      "2022-11-03 20:47:02.592545: I tensorflow/core/common_runtime/pluggable_device/pluggable_device_factory.cc:305] Could not identify NUMA node of platform GPU ID 0, defaulting to 0. Your kernel may not have been built with NUMA support.\n",
      "2022-11-03 20:47:02.593417: I tensorflow/core/common_runtime/pluggable_device/pluggable_device_factory.cc:271] Created TensorFlow device (/job:localhost/replica:0/task:0/device:GPU:0 with 0 MB memory) -> physical PluggableDevice (device: 0, name: METAL, pci bus id: <undefined>)\n"
     ]
    }
   ],
   "source": [
    "dataset = tf.data.TFRecordDataset('example.tfrecord')\n",
    "dataset = dataset.map(map_fn)"
   ]
  },
  {
   "cell_type": "code",
   "execution_count": 22,
   "id": "e7061636",
   "metadata": {},
   "outputs": [
    {
     "name": "stdout",
     "output_type": "stream",
     "text": [
      "tf.Tensor([98 89 81 31 13 17 86 11 99 72], shape=(10,), dtype=int64)\n",
      "tf.Tensor([60 35 83 45 11 75 45 65 34 52], shape=(10,), dtype=int64)\n",
      "tf.Tensor([39 76 96 85 20 91 34 35 15 29], shape=(10,), dtype=int64)\n",
      "tf.Tensor([70 75 39 71 55 71 22 84 89 43], shape=(10,), dtype=int64)\n",
      "tf.Tensor([70  7 72  3 68 42 16 28 20 85], shape=(10,), dtype=int64)\n",
      "tf.Tensor([40 78  6 36 47 21 82  7 35 58], shape=(10,), dtype=int64)\n",
      "tf.Tensor([84 31 87 98 95  5 82 35 58 10], shape=(10,), dtype=int64)\n",
      "tf.Tensor([86 65 54 13 41 55 24 75 21 42], shape=(10,), dtype=int64)\n",
      "tf.Tensor([57 29 69 84 63 61 28 14  1 90], shape=(10,), dtype=int64)\n",
      "tf.Tensor([76 80 24 61 19 91 17 23 29 86], shape=(10,), dtype=int64)\n"
     ]
    }
   ],
   "source": [
    "for feature, label in dataset.take(10):\n",
    "    print(feature)"
   ]
  },
  {
   "cell_type": "code",
   "execution_count": 23,
   "id": "a7024fef",
   "metadata": {},
   "outputs": [],
   "source": [
    "data1 = dataset.take(1)"
   ]
  },
  {
   "cell_type": "code",
   "execution_count": 40,
   "id": "0665c42f",
   "metadata": {},
   "outputs": [
    {
     "name": "stdout",
     "output_type": "stream",
     "text": [
      "<tensorflow.python.data.ops.dataset_ops._NumpyIterator object at 0x2a594a850>\n",
      "[(array([98, 89, 81, 31, 13, 17, 86, 11, 99, 72]), array([0]))]\n",
      "(array([98, 89, 81, 31, 13, 17, 86, 11, 99, 72]), array([0]))\n",
      "[98 89 81 31 13 17 86 11 99 72]\n",
      "[98, 89, 81, 31, 13, 17, 86, 11, 99, 72]\n",
      "[[98, 89, 81, 31, 13, 17, 86, 11, 99, 72]]\n"
     ]
    }
   ],
   "source": [
    "print(data1.as_numpy_iterator())\n",
    "print(list(data1.as_numpy_iterator()))\n",
    "print(list(data1.as_numpy_iterator())[0])\n",
    "print(list(data1.as_numpy_iterator())[0][0])\n",
    "print(list(list(data1.as_numpy_iterator())[0][0]))\n",
    "print([list(list(data1.as_numpy_iterator())[0][0])])"
   ]
  },
  {
   "cell_type": "code",
   "execution_count": null,
   "id": "49a3478f",
   "metadata": {},
   "outputs": [],
   "source": []
  }
 ],
 "metadata": {
  "kernelspec": {
   "display_name": "Python [conda env:tensorflow-scott]",
   "language": "python",
   "name": "conda-env-tensorflow-scott-py"
  },
  "language_info": {
   "codemirror_mode": {
    "name": "ipython",
    "version": 3
   },
   "file_extension": ".py",
   "mimetype": "text/x-python",
   "name": "python",
   "nbconvert_exporter": "python",
   "pygments_lexer": "ipython3",
   "version": "3.8.13"
  }
 },
 "nbformat": 4,
 "nbformat_minor": 5
}
